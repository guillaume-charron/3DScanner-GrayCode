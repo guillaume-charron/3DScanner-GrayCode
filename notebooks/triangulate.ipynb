{
 "cells": [
  {
   "cell_type": "code",
   "execution_count": 17,
   "metadata": {},
   "outputs": [],
   "source": [
    "import numpy as np\n",
    "import matplotlib.pyplot as plt\n",
    "import cv2\n",
    "from tqdm import tqdm\n",
    "import shutil, os"
   ]
  },
  {
   "cell_type": "code",
   "execution_count": 135,
   "metadata": {},
   "outputs": [],
   "source": [
    "# Load calib results\n",
    "proj_mtx =  np.load('../data/proj_mtx.npy', )\n",
    "proj_dist = np.load('../data/proj_dist.npy', )\n",
    "cam_mtx =   np.load('../data/cam_mtx.npy', )\n",
    "cam_dist =  np.load('../data/cam_dist.npy')\n",
    "proj_R =    np.load('../data/R.npy')\n",
    "proj_T =    np.load('../data/T.npy')\n",
    "R1 =        np.load('../data/R1.npy')\n",
    "R2 =        np.load('../data/R2.npy')\n",
    "P1 =        np.load('../data/P1.npy')\n",
    "P2 =        np.load('../data/P2.npy')\n",
    "\n",
    "# scale_x = 1920 / 800\n",
    "# scale_y = 1080 / 600\n",
    "# proj_mtx[0, :] = proj_mtx[0, :] * scale_x\n",
    "# proj_mtx[1, :] = proj_mtx[1, :] * scale_y\n",
    "# print(proj_mtx)\n",
    "\n",
    "\n",
    "base_path = '../data/recordings/record_0/'\n",
    "h_pixels = np.load(base_path+'h_pixels.npy')\n",
    "v_pixels = np.load(base_path+'v_pixels.npy')"
   ]
  },
  {
   "cell_type": "code",
   "execution_count": 138,
   "metadata": {},
   "outputs": [
    {
     "name": "stdout",
     "output_type": "stream",
     "text": [
      "[[445.27884 359.43002]]\n"
     ]
    }
   ],
   "source": [
    "arrwidth = 1920\n",
    "arrheight = 1080\n",
    "\n",
    "cam_pts = []\n",
    "proj_pts = []\n",
    "\n",
    "# for i in range(500, 1300):\n",
    "#     for j in range(200, 800):\n",
    "for i in range(1920):\n",
    "    for j in range(1080):\n",
    "        h_value = h_pixels[j, i]\n",
    "        v_value = v_pixels[j, i]\n",
    "        if h_value == -1 or v_value == -1:\n",
    "            pass\n",
    "        else:\n",
    "            cam_pts.append([i,j])\n",
    "            h_value = min(arrwidth-1, h_value)\n",
    "            v_value = min(arrheight-1, v_value)\n",
    "            proj_pts.append([ h_value, v_value])\n",
    "\n",
    "cam_pts = np.array(cam_pts, dtype=np.float32)\n",
    "proj_pts = np.array(proj_pts, dtype=np.float32)\n",
    "\n",
    "newcameramtx, roi = cv2.getOptimalNewCameraMatrix(cam_mtx, cam_dist, (1920,1080), 1, (1920,1080))\n",
    "newprojmtx, roi = cv2.getOptimalNewCameraMatrix(proj_mtx, proj_dist, (1920,1080), 1, (1920,1080))\n",
    "cam_pts_homo = cv2.undistortPoints(np.expand_dims(cam_pts, axis=1), cam_mtx, cam_dist, None, newcameramtx)\n",
    "proj_pts_homo = cv2.undistortPoints(np.expand_dims(proj_pts, axis=1), proj_mtx, proj_dist, None, newprojmtx)\n",
    "\n",
    "print(proj_pts_homo[0])"
   ]
  },
  {
   "cell_type": "code",
   "execution_count": 141,
   "metadata": {},
   "outputs": [],
   "source": [
    "p4d = cv2.triangulatePoints(P1, P2, cam_pts_homo, proj_pts_homo)\n",
    "\n",
    "p3d_euc = p4d / p4d[3, :]\n",
    "p3d_euc = p3d_euc[:3, :]\n",
    "\n",
    "import open3d as o3d\n",
    "import open3d.core as o3c\n",
    "pcd = o3d.t.geometry.PointCloud(o3c.Tensor(p3d_euc.T, o3c.float32))\n",
    "\n",
    "o3d.visualization.draw_geometries([pcd.to_legacy()])"
   ]
  }
 ],
 "metadata": {
  "kernelspec": {
   "display_name": "ift6145-env",
   "language": "python",
   "name": "python3"
  },
  "language_info": {
   "codemirror_mode": {
    "name": "ipython",
    "version": 3
   },
   "file_extension": ".py",
   "mimetype": "text/x-python",
   "name": "python",
   "nbconvert_exporter": "python",
   "pygments_lexer": "ipython3",
   "version": "3.9.0"
  }
 },
 "nbformat": 4,
 "nbformat_minor": 2
}
