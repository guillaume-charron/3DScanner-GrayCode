{
 "cells": [
  {
   "cell_type": "code",
   "execution_count": 2,
   "metadata": {},
   "outputs": [],
   "source": [
    "import glob, cv2\n",
    "import numpy as np\n",
    "import os"
   ]
  },
  {
   "cell_type": "code",
   "execution_count": 3,
   "metadata": {},
   "outputs": [],
   "source": [
    "\n",
    "\n",
    "# Define the charuco board parameters\n",
    "dictionary = cv2.aruco.getPredefinedDictionary(cv2.aruco.DICT_6X6_250)\n",
    "charuco_board = cv2.aruco.CharucoBoard((5, 7), 0.04, .02, dictionary)\n",
    "params = cv2.aruco.DetectorParameters()\n",
    "params.cornerRefinementMethod = cv2.aruco.CORNER_REFINE_NONE\n",
    "\n",
    "# Define circle grid points in 2D\n",
    "nb_col = 4\n",
    "nb_row = 11\n",
    "circle_r = 20\n",
    "default_x, default_y = (800, 400)\n",
    "\n",
    "circle_2d_pts = np.zeros((nb_col*nb_row, 2), dtype=np.int32)\n",
    "count = 0\n",
    "for i in range(nb_row):\n",
    "    for j in range(nb_col-1, -1, -1):\n",
    "        if i % 2 == 0:\n",
    "            pos_x = j * 6 * circle_r + (3 * circle_r)\n",
    "        else:\n",
    "            pos_x = j * 6 * circle_r \n",
    "        pos_y = i * 3 * circle_r\n",
    "        circle_2d_pts[count] = [pos_x, pos_y]\n",
    "        count += 1\n",
    "circle_2d = circle_2d_pts + [default_x, default_y]"
   ]
  },
  {
   "cell_type": "code",
   "execution_count": 165,
   "metadata": {},
   "outputs": [],
   "source": [
    "def remove_dist(img, k, dist):\n",
    "    h,  w = img.shape[:2]\n",
    "    newcameramtx, roi = cv2.getOptimalNewCameraMatrix(k, dist, (w,h), 1, (w,h))\n",
    "    dst = cv2.undistort(img, k, dist, None, newcameramtx)\n",
    "    x, y, w, h = roi\n",
    "    return dst[y:y+h, x:x+w]\n",
    "\n",
    "def detect_markers(frame, gray, k, dist, dictionary, params, draw=True):\n",
    "    rvec = None\n",
    "    tvec = None\n",
    "    ret = False\n",
    "    homography = None\n",
    "\n",
    "    # Detect markers and corners\n",
    "    corners, ids, rejected = cv2.aruco.detectMarkers(gray, dictionary, parameters=params)\n",
    "\n",
    "    if corners is not None and len(corners) > 0:\n",
    "        if draw:\n",
    "            frame = cv2.aruco.drawDetectedMarkers(frame, corners, ids)\n",
    "        ret, charuco_corners, charuco_ids = cv2.aruco.interpolateCornersCharuco(corners, ids, gray, charuco_board)\n",
    "        if charuco_ids is not None and len(charuco_ids) > 0:\n",
    "            if draw:\n",
    "                frame = cv2.aruco.drawDetectedCornersCharuco(frame, charuco_corners, charuco_ids)\n",
    "            ret, rvec, tvec = cv2.aruco.estimatePoseCharucoBoard(charuco_corners, charuco_ids, charuco_board, k, dist, None, None)\n",
    "            #cv2.findHomography(charuco_board.getObjPoints(), charuco_corners, cv2.RANSAC, 5.0)\n",
    "            if ret and draw:\n",
    "                frame = cv2.drawFrameAxes(frame, k, dist, rvec, tvec, 0.1)\n",
    "            obj_points = np.reshape(np.array(charuco_board.getObjPoints())[ids][:,:,:, :2], (len(corners)*4, 2))\n",
    "            corners_flatten = np.reshape(np.array(corners), (len(corners)*4, 2))\n",
    "            H, _ = cv2.findHomography(corners_flatten, obj_points, cv2.RANSAC, 5.0)\n",
    "\n",
    "    return ret, frame, rvec, tvec, H"
   ]
  },
  {
   "cell_type": "code",
   "execution_count": 164,
   "metadata": {},
   "outputs": [
    {
     "name": "stdout",
     "output_type": "stream",
     "text": [
      "[[0.05       0.25       0.        ]\n",
      " [0.06999999 0.25       0.        ]\n",
      " [0.06999999 0.27       0.        ]\n",
      " [0.05       0.27       0.        ]]\n",
      "[[[0.04925318 0.2506232 ]\n",
      "  [0.06887267 0.25021082]\n",
      "  [0.06875407 0.26948836]\n",
      "  [0.04985235 0.26959056]]]\n"
     ]
    }
   ],
   "source": [
    "img = cv2.imread('calibration/CalibrationImgs/projector/calibrate_1.jpg')\n",
    "# Convert to gray\n",
    "gray = cv2.cvtColor(img, cv2.COLOR_BGR2GRAY)\n",
    "\n",
    "corners, ids, rejected = cv2.aruco.detectMarkers(gray, dictionary, parameters=params)\n",
    "ret, charuco_corners, charuco_ids = cv2.aruco.interpolateCornersCharuco(corners, ids, gray, charuco_board)\n",
    "ret, rvec, tvec = cv2.aruco.estimatePoseCharucoBoard(charuco_corners, charuco_ids, charuco_board, cam_mtx, cam_dist, None, None)\n",
    "# corners_reprojected, _ = cv2.projectPoints(np.pad(corners, ((0,0), (0,0), (0,1)), 'constant', constant_values=1), -rvec, -tvec, cam_mtx, cam_dist)\n",
    "# print(corners_reprojected)\n",
    "\n",
    "#print(corners)\n",
    "corner = corners[0]\n",
    "#print(charuco_board.getObjPoints()[ids[:, 0]])\n",
    "obj_points = np.reshape(np.array(charuco_board.getObjPoints())[ids][:,:,:, :2], (len(corners)*4, 2))\n",
    "corners_flatten = np.reshape(np.array(corners), (len(corners)*4, 2))\n",
    "H, _ = cv2.findHomography(corners_flatten, obj_points, cv2.RANSAC, 5.0)\n",
    "# Reproject the points\n",
    "test = cv2.perspectiveTransform(corner, H)\n",
    "print(charuco_board.getObjPoints()[ids[0][0]])\n",
    "print(test)\n"
   ]
  },
  {
   "cell_type": "code",
   "execution_count": 67,
   "metadata": {},
   "outputs": [],
   "source": [
    "def detect_circle_grid(frame, gray, k, dist, shape, rvec, tvec, H, draw=True):\n",
    "    ret, circles = cv2.findCirclesGrid(gray, shape, flags=cv2.CALIB_CB_ASYMMETRIC_GRID + cv2.CALIB_CB_CLUSTERING)\n",
    "    \n",
    "    circles3D = None\n",
    "    if ret:\n",
    "        if draw:\n",
    "            frame = cv2.drawChessboardCorners(frame, shape, circles, ret)\n",
    "        \n",
    "        circles3D = cv2.perspectiveTransform(circles, H)\n",
    "        circles3D = np.pad(circles3D, ((0,0), (0,0), (0,1)), 'constant', constant_values=0)\n",
    "        \n",
    "    return ret, frame, circles, circles3D.astype(np.float32)"
   ]
  },
  {
   "cell_type": "code",
   "execution_count": 166,
   "metadata": {},
   "outputs": [
    {
     "name": "stdout",
     "output_type": "stream",
     "text": [
      "Prev cam calibration\n",
      "[[1.70506750e+03 0.00000000e+00 1.01575263e+03]\n",
      " [0.00000000e+00 1.27456680e+03 5.29558874e+02]\n",
      " [0.00000000e+00 0.00000000e+00 1.00000000e+00]]\n",
      "[[-0.06384388 -0.0161335   0.00047424  0.00693934 -0.03214843]]\n",
      "\n",
      "Camera calibration\n",
      "[[1.29949969e+03 0.00000000e+00 1.02062531e+03]\n",
      " [0.00000000e+00 1.33411168e+03 5.47939718e+02]\n",
      " [0.00000000e+00 0.00000000e+00 1.00000000e+00]]\n",
      "[[ 0.05684467 -0.89925609  0.0040712   0.00297369  0.66275739]]\n",
      "\n",
      "Proj calibration\n",
      "[[3.02967444e+03 0.00000000e+00 1.06224767e+03]\n",
      " [0.00000000e+00 2.98762247e+03 8.79816610e+02]\n",
      " [0.00000000e+00 0.00000000e+00 1.00000000e+00]]\n",
      "[[-6.78268953e-01  6.99196895e+01 -1.85746535e-02  1.16009237e-02\n",
      "  -1.50365221e+03]]\n",
      "\n",
      "Stereo calibration\n",
      "Camera parameters\n",
      "[[1.29949969e+03 0.00000000e+00 1.02062531e+03]\n",
      " [0.00000000e+00 1.33411168e+03 5.47939718e+02]\n",
      " [0.00000000e+00 0.00000000e+00 1.00000000e+00]] [[ 0.05684467 -0.89925609  0.0040712   0.00297369  0.66275739]]\n",
      "Projector parameters\n",
      "[[3.02967444e+03 0.00000000e+00 1.06224767e+03]\n",
      " [0.00000000e+00 2.98762247e+03 8.79816610e+02]\n",
      " [0.00000000e+00 0.00000000e+00 1.00000000e+00]] [[-6.78268953e-01  6.99196895e+01 -1.85746535e-02  1.16009237e-02\n",
      "  -1.50365221e+03]]\n",
      "Rotation and translation\n",
      "[[-0.93259026  0.34344456  0.1110011 ]\n",
      " [ 0.33317593  0.70086502  0.63069963]\n",
      " [ 0.13881357  0.62516723 -0.76804735]]\n",
      "[[0.24317941]\n",
      " [0.52047964]\n",
      " [4.30522031]]\n"
     ]
    }
   ],
   "source": [
    "# Get previous calibration data for the camera\n",
    "cam_mtx = np.load('data/mtx.npy')\n",
    "cam_dist = np.load('data/dist.npy')\n",
    "\n",
    "obj_pts = []\n",
    "proj_circle_pts = []\n",
    "cam_circle_pts = []\n",
    "calibration_folder = './calibration/CalibrationImgs/(old)projector/'\n",
    "# Calibrate projector\n",
    "images = glob.glob(os.path.join(calibration_folder,'*.jpg'))\n",
    "for fname in images:\n",
    "    img = cv2.imread(fname)\n",
    "    # Convert to gray\n",
    "    gray = cv2.cvtColor(img, cv2.COLOR_BGR2GRAY)\n",
    "\n",
    "    # Detect markers and corners\n",
    "    ret, img, rvec, tvec, H = detect_markers(img, gray, cam_mtx, cam_dist, dictionary, params, draw=False)\n",
    "\n",
    "    if ret:\n",
    "        # Find projected circles\n",
    "        ret, img, circles_2d_cam, circles_3d = detect_circle_grid(img, gray, cam_mtx, cam_dist, (nb_col, nb_row), rvec, tvec, H, draw=False)\n",
    "\n",
    "        obj_pts.append(circles_3d)\n",
    "        proj_circle_pts.append(circle_2d.astype(np.float32))\n",
    "        cam_circle_pts.append(circles_2d_cam)\n",
    "\n",
    "print('Prev cam calibration')\n",
    "print(cam_mtx)\n",
    "print(cam_dist)\n",
    "\n",
    "ret, cam_mtx, cam_dist, cam_rvecs, cam_tvecs = cv2.calibrateCamera(obj_pts, cam_circle_pts, (1920,1080), cam_mtx, cam_dist, flags=cv2.CALIB_USE_INTRINSIC_GUESS)\n",
    "print('\\nCamera calibration')\n",
    "print(cam_mtx)\n",
    "print(cam_dist)\n",
    "\n",
    "\n",
    "ret, proj_mtx, proj_dist, rvecs, tvecs = cv2.calibrateCamera(obj_pts, proj_circle_pts, (1920,1080), None, None)\n",
    "print('\\nProj calibration')\n",
    "print(proj_mtx)\n",
    "print(proj_dist)\n",
    "\n",
    "print('\\nStereo calibration')\n",
    "ret, cam_mtx, cam_dist, proj_mtx, proj_dist, proj_R, proj_T,_,_ = cv2.stereoCalibrate(obj_pts, cam_circle_pts, proj_circle_pts, cam_mtx, cam_dist, proj_mtx, proj_dist, (1920,1080), flags=cv2.CALIB_FIX_INTRINSIC)\n",
    "print('Camera parameters')\n",
    "print(cam_mtx, cam_dist)\n",
    "print('Projector parameters')\n",
    "print(proj_mtx, proj_dist)\n",
    "print('Rotation and translation')\n",
    "print(proj_R)\n",
    "print(proj_T)"
   ]
  },
  {
   "cell_type": "code",
   "execution_count": 174,
   "metadata": {},
   "outputs": [],
   "source": [
    "np.save('data/mtx.npy', cam_mtx)\n",
    "np.save('data/dist.npy', cam_dist)\n",
    "np.save('data/mtx_proj.npy', proj_mtx)\n",
    "np.save('data/dist_proj.npy', proj_dist)"
   ]
  },
  {
   "cell_type": "code",
   "execution_count": 172,
   "metadata": {},
   "outputs": [
    {
     "name": "stdout",
     "output_type": "stream",
     "text": [
      "[[ 0.02984736]\n",
      " [-0.40125955]\n",
      " [ 0.02482657]]\n",
      "[[ 0.03680691]\n",
      " [-0.14438898]\n",
      " [ 1.42199662]]\n"
     ]
    }
   ],
   "source": [
    "rot_vecs = []\n",
    "transs = []\n",
    "for i in range(len(cam_rvecs)):\n",
    "    cam_rvec = cam_rvecs[i]\n",
    "    cam_tvec = cam_tvecs[i]\n",
    "    proj_rvec = rvecs[i]\n",
    "    proj_tvec = tvecs[i]\n",
    "\n",
    "    cam_rMat, _ = cv2.Rodrigues(cam_rvec)\n",
    "    proj_rMat, _ = cv2.Rodrigues(proj_rvec)\n",
    "\n",
    "    rot = np.linalg.inv(cam_rMat) @ proj_rMat\n",
    "    rot_vec, _ = cv2.Rodrigues(rot)\n",
    "    trans = proj_tvec - rot @ cam_tvec\n",
    "\n",
    "    transs.append(trans)\n",
    "    rot_vecs.append(rot_vec)\n",
    "    # print(rot_vec)\n",
    "    # print(trans)\n",
    "    # print('') \n",
    "rot_vecs = np.array(rot_vecs)\n",
    "transs = np.array(transs)\n",
    "mean_rot_vec = rot_vecs.mean(axis=0)\n",
    "mean_trans = transs.mean(axis=0)\n",
    "print(mean_rot_vec)\n",
    "print(mean_trans)"
   ]
  },
  {
   "cell_type": "code",
   "execution_count": 647,
   "metadata": {},
   "outputs": [
    {
     "name": "stdout",
     "output_type": "stream",
     "text": [
      "[[[1178.5604   345.03375]]]\n",
      "[-7642.4737406121785, 5435.607571857083]\n",
      "[1100  400]\n",
      "[[1332.5448  647.9035]]\n"
     ]
    }
   ],
   "source": [
    "transCamToProj = np.linalg.inv(proj_R) @ proj_T\n",
    "rvec_proj, _ = cv2.Rodrigues(proj_R)\n",
    "rMat, _ = cv2.Rodrigues(rvec)\n",
    "transPlaneToCam = np.linalg.inv(rMat) @ tvec\n",
    "totalTrans = transCamToProj + transPlaneToCam\n",
    "rTot = proj_R @ np.linalg.inv(rMat) \n",
    "#rTot = proj_R\n",
    "#rTot = rMat\n",
    "#tTot = proj_R @ (tvec + proj_T)\n",
    "# totalTrans = np.linalg.inv(rTot) @ tTot\n",
    "# totalTrans = transPlaneToCam\n",
    "# rTot = rMat\n",
    "\n",
    "i = 1\n",
    "test = np.array([[obj_pts[id][i][0]], [obj_pts[id][i][1]], [1.0]], dtype=np.float32)\n",
    "test2, _ = cv2.projectPoints(test, (0,0,0), (0,0,0), cam_mtx, cam_dist)\n",
    "test3, _ = cv2.projectPoints(test, rvec_proj, proj_T, proj_mtx, proj_dist)\n",
    "print(test3)\n",
    "worldPtPlane = test + totalTrans\n",
    "\n",
    "#worldPtProj = np.linalg.inv(rMat) @ np.linalg.inv(proj_R)   @ worldPtPlane\n",
    "worldPtProj = rTot @ worldPtPlane\n",
    "coord = proj_mtx @ worldPtProj\n",
    "coord = coord / coord[2]\n",
    "print([coord[0][0], coord[1][0]])\n",
    "print(circle_2d[i])\n",
    "print(cam_circle_pts[id][0])"
   ]
  },
  {
   "cell_type": "code",
   "execution_count": 173,
   "metadata": {},
   "outputs": [
    {
     "data": {
      "image/png": "[encoded data removed]",
      "text/plain": [
       "<Figure size 640x480 with 1 Axes>"
      ]
     },
     "metadata": {},
     "output_type": "display_data"
    }
   ],
   "source": [
    "import matplotlib.pyplot as plt\n",
    "id = -1\n",
    "rvec_proj, _ = cv2.Rodrigues(proj_R)\n",
    "pts_3d = obj_pts.copy()\n",
    "\n",
    "pts_3d[id][:,:, 2] = np.ones_like(pts_3d[id][:,:,2])\n",
    "test3, _ = cv2.projectPoints(pts_3d[id], proj_R, proj_T, proj_mtx, proj_dist)\n",
    "\n",
    "plt.plot(circle_2d[:, 0], circle_2d[:, 1], 'bo', markersize=5)\n",
    "plt.plot(test3[:, 0, 0], test3[:, 0, 1], 'ro', markersize=5)\n",
    "#plt.xlim([0, 1920])\n",
    "#plt.ylim([0, 1080])\n",
    "plt.legend(['2D', '3D'])\n",
    "plt.show()"
   ]
  },
  {
   "cell_type": "code",
   "execution_count": 481,
   "metadata": {},
   "outputs": [
    {
     "name": "stdout",
     "output_type": "stream",
     "text": [
      "[[[5721034.33577861 2458671.59065727]]]\n",
      "[980 400]\n"
     ]
    }
   ],
   "source": [
    "# print(rvecs[id].T)\n",
    "# print(tvecs[id].T)\n",
    "i = 2\n",
    "test = np.array([[obj_pts[id][i][0]], [obj_pts[id][i][1]], [1.0]], dtype=np.float32)\n",
    "\n",
    "\n",
    "# rTot = rMat @ proj_R \n",
    "# rTest, _ = cv2.Rodrigues(rTot) \n",
    "# tTot = proj_R @ tvec + proj_T\n",
    "\n",
    "transCamToProj = proj_R @ proj_T\n",
    "rvec_proj, _ = cv2.Rodrigues(proj_R)\n",
    "rMat, _ = cv2.Rodrigues(rvec)\n",
    "transPlaneToCam = np.linalg.inv(rMat) @ tvec\n",
    "totalTrans = transCamToProj + transPlaneToCam\n",
    "\n",
    "\n",
    "# print(rTest.T)\n",
    "# print(tTot.T)\n",
    "ttest = test.copy()\n",
    "ttest[2] = 1\n",
    "\n",
    "test3, _ = cv2.projectPoints(ttest + totalTrans, (0,0,0), (0,0,0), proj_mtx, proj_dist)\n",
    "print(test3)\n",
    "print(circle_2d[i])"
   ]
  },
  {
   "cell_type": "code",
   "execution_count": 171,
   "metadata": {},
   "outputs": [
    {
     "data": {
      "image/png": "[encoded data removed]",
      "text/plain": [
       "<Figure size 640x480 with 1 Axes>"
      ]
     },
     "metadata": {},
     "output_type": "display_data"
    }
   ],
   "source": [
    "import matplotlib.pyplot as plt\n",
    "id = 3\n",
    "\n",
    "circles3D_reprojected, _ = cv2.projectPoints(obj_pts[id], rvecs[id], tvecs[id], proj_mtx, proj_dist)\n",
    "circles3D_reprojected = circles3D_reprojected[:, 0, :]\n",
    "\n",
    "plt.plot(circle_2d[:, 0], circle_2d[:, 1], 'bo', markersize=5)\n",
    "plt.plot(circles3D_reprojected[:, 0], circles3D_reprojected[:, 1], 'ro', markersize=5)\n",
    "plt.xlim([0, 1920])\n",
    "plt.ylim([0, 1080])\n",
    "plt.legend(['2D', '3D'])\n",
    "plt.show()"
   ]
  }
 ],
 "metadata": {
  "kernelspec": {
   "display_name": "ift6145-env",
   "language": "python",
   "name": "python3"
  },
  "language_info": {
   "codemirror_mode": {
    "name": "ipython",
    "version": 3
   },
   "file_extension": ".py",
   "mimetype": "text/x-python",
   "name": "python",
   "nbconvert_exporter": "python",
   "pygments_lexer": "ipython3",
   "version": "3.9.0"
  }
 },
 "nbformat": 4,
 "nbformat_minor": 2
}
